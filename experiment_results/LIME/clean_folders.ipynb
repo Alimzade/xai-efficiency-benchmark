{
 "cells": [
  {
   "cell_type": "markdown",
   "id": "0f8473da",
   "metadata": {},
   "source": [
    "### Utility to clear statistics folders and files (generated from experiments run in LIME benchmark)"
   ]
  },
  {
   "cell_type": "code",
   "execution_count": 3,
   "id": "0812e307-9024-47c9-bcd5-f8f71b5f8d50",
   "metadata": {},
   "outputs": [
    {
     "name": "stdout",
     "output_type": "stream",
     "text": [
      "Cleared folder: per_image_results\n",
      "Cleared folder: visualizations\n",
      "Cleared file: summary.jsonl\n"
     ]
    }
   ],
   "source": [
    "import os\n",
    "import shutil\n",
    "\n",
    "# Define the folders and file to clear\n",
    "folders_to_clear = [\n",
    "    \"per_image_results\",\n",
    "    \"visualizations\"\n",
    "]\n",
    "file_to_clear = \"summary.jsonl\"\n",
    "\n",
    "# Function to clear the folders\n",
    "def clear_folders(folders):\n",
    "    for folder in folders:\n",
    "        if os.path.exists(folder):\n",
    "            try:\n",
    "                shutil.rmtree(folder)\n",
    "                os.makedirs(folder)  # Recreate the folder\n",
    "                print(f\"Cleared folder: {folder}\")\n",
    "            except Exception as e:\n",
    "                print(f\"Error clearing folder {folder}: {e}\")\n",
    "        else:\n",
    "            print(f\"Folder does not exist: {folder}\")\n",
    "\n",
    "# Function to clear the file\n",
    "def clear_file(file_path):\n",
    "    if os.path.exists(file_path):\n",
    "        try:\n",
    "            open(file_path, 'w').close()  # Empty the file\n",
    "            print(f\"Cleared file: {file_path}\")\n",
    "        except Exception as e:\n",
    "            print(f\"Error clearing file {file_path}: {e}\")\n",
    "    else:\n",
    "        print(f\"File does not exist: {file_path}\")\n",
    "\n",
    "# Execute the clearing functions\n",
    "clear_folders(folders_to_clear)\n",
    "clear_file(file_to_clear)"
   ]
  }
 ],
 "metadata": {
  "kernelspec": {
   "display_name": "Python [conda env:root] *",
   "language": "python",
   "name": "conda-root-py"
  },
  "language_info": {
   "codemirror_mode": {
    "name": "ipython",
    "version": 3
   },
   "file_extension": ".py",
   "mimetype": "text/x-python",
   "name": "python",
   "nbconvert_exporter": "python",
   "pygments_lexer": "ipython3",
   "version": "3.11.8"
  }
 },
 "nbformat": 4,
 "nbformat_minor": 5
}
