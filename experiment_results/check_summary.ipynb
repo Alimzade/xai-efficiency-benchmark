{
 "cells": [
  {
   "cell_type": "code",
   "execution_count": 3,
   "id": "1155c92f-d985-4cac-a718-2a26febacd5b",
   "metadata": {},
   "outputs": [
    {
     "data": {
      "text/plain": [
       "(210, 630, 0, set())"
      ]
     },
     "execution_count": 3,
     "metadata": {},
     "output_type": "execute_result"
    }
   ],
   "source": [
    "import json\n",
    "\n",
    "# Reloading the uploaded file due to environment reset\n",
    "file_path = \"summary.jsonl\"\n",
    "\n",
    "# Load the summary file\n",
    "data = []\n",
    "with open(file_path, \"r\") as file:\n",
    "    for line in file:\n",
    "        data.append(json.loads(line))\n",
    "\n",
    "# Define the expected variations\n",
    "DATA_TYPES = ['ImageNet', 'STL10', 'CIFAR10']\n",
    "MODEL_NAMES = ['resnet50', 'densenet121', 'efficientnet-b0', 'convnext-t', 'vit-b-16']\n",
    "XAI_METHODS = ['CAM', 'Grad_CAM', 'Grad_CAM_plus_plus', 'GradientShap', 'GuidedBackprop', 'DeepLiftShap', 'InputXGradient', 'Saliency', 'IntegratedGradients',\n",
    "               'LIME', 'PermutationImportance', 'Morris_Sensitivity_Analysis', 'AblationStudies', 'RISE']\n",
    "\n",
    "GPUS = ['K80']\n",
    "\n",
    "expected_variations = [\n",
    "    (method, model, dataset, gpu_name) for method in XAI_METHODS for model in MODEL_NAMES for dataset in DATA_TYPES for gpu_name in GPUS\n",
    "]\n",
    "\n",
    "# Find missing variations\n",
    "present_variations = {(entry[\"method\"], entry[\"model\"], entry[\"dataset\"],  entry[\"gpu_name\"]) for entry in data}\n",
    "missing_variations = set(expected_variations) - present_variations\n",
    "\n",
    "len(expected_variations), len(present_variations), len(missing_variations), missing_variations"
   ]
  }
 ],
 "metadata": {
  "kernelspec": {
   "display_name": "Python [conda env:root] *",
   "language": "python",
   "name": "conda-root-py"
  },
  "language_info": {
   "codemirror_mode": {
    "name": "ipython",
    "version": 3
   },
   "file_extension": ".py",
   "mimetype": "text/x-python",
   "name": "python",
   "nbconvert_exporter": "python",
   "pygments_lexer": "ipython3",
   "version": "3.11.8"
  }
 },
 "nbformat": 4,
 "nbformat_minor": 5
}
