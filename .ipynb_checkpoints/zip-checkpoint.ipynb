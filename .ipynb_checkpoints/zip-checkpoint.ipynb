{
 "cells": [
  {
   "cell_type": "code",
   "execution_count": 1,
   "id": "bf7f4016-a3b9-4bcc-acd1-56d271e5c549",
   "metadata": {},
   "outputs": [
    {
     "name": "stdout",
     "output_type": "stream",
     "text": [
      "Folder 'experiment_results' has been successfully zipped into 'experiment_results.zip'.\n"
     ]
    }
   ],
   "source": [
    "import shutil\n",
    "\n",
    "# Define the folder name and the output zip file name\n",
    "folder_name = 'experiment_results'\n",
    "output_zip = 'experiment_results.zip'\n",
    "\n",
    "# Create the zip file\n",
    "shutil.make_archive(output_zip.replace('.zip', ''), 'zip', folder_name)\n",
    "\n",
    "print(f\"Folder '{folder_name}' has been successfully zipped into '{output_zip}'.\")"
   ]
  }
 ],
 "metadata": {
  "kernelspec": {
   "display_name": "Python [conda env:root] *",
   "language": "python",
   "name": "conda-root-py"
  },
  "language_info": {
   "codemirror_mode": {
    "name": "ipython",
    "version": 3
   },
   "file_extension": ".py",
   "mimetype": "text/x-python",
   "name": "python",
   "nbconvert_exporter": "python",
   "pygments_lexer": "ipython3",
   "version": "3.11.8"
  }
 },
 "nbformat": 4,
 "nbformat_minor": 5
}
